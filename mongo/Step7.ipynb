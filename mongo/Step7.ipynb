{
  "cells": [
    {
      "cell_type": "markdown",
      "metadata": {
        "id": "view-in-github",
        "colab_type": "text"
      },
      "source": [
        "<a href=\"https://colab.research.google.com/github/iftt-jonathan/database-experiment-colabs/blob/main/mongo/Step7.ipynb\" target=\"_parent\"><img src=\"https://colab.research.google.com/assets/colab-badge.svg\" alt=\"Open In Colab\"/></a>"
      ]
    },
    {
      "cell_type": "code",
      "execution_count": 1,
      "metadata": {
        "id": "juKBjyXW27GK",
        "outputId": "8ebe9cc6-0f04-4bb2-9f38-730c9e31a06a",
        "colab": {
          "base_uri": "https://localhost:8080/"
        }
      },
      "outputs": [
        {
          "output_type": "stream",
          "name": "stdout",
          "text": [
            "34.148.147.153"
          ]
        }
      ],
      "source": [
        "# This will tell you your current IP address from google colab\n",
        "!curl api.ipify.org"
      ]
    },
    {
      "cell_type": "code",
      "execution_count": 2,
      "metadata": {
        "id": "kiMF8l-C27GL",
        "outputId": "f4544086-c17c-4ece-b8d3-bcae046e9298",
        "colab": {
          "base_uri": "https://localhost:8080/"
        }
      },
      "outputs": [
        {
          "output_type": "stream",
          "name": "stdout",
          "text": [
            "Collecting pymongo\n",
            "  Downloading pymongo-4.13.0-cp311-cp311-manylinux_2_17_x86_64.manylinux2014_x86_64.whl.metadata (22 kB)\n",
            "Collecting dnspython<3.0.0,>=1.16.0 (from pymongo)\n",
            "  Downloading dnspython-2.7.0-py3-none-any.whl.metadata (5.8 kB)\n",
            "Downloading pymongo-4.13.0-cp311-cp311-manylinux_2_17_x86_64.manylinux2014_x86_64.whl (1.4 MB)\n",
            "\u001b[2K   \u001b[90m━━━━━━━━━━━━━━━━━━━━━━━━━━━━━━━━━━━━━━━━\u001b[0m \u001b[32m1.4/1.4 MB\u001b[0m \u001b[31m14.1 MB/s\u001b[0m eta \u001b[36m0:00:00\u001b[0m\n",
            "\u001b[?25hDownloading dnspython-2.7.0-py3-none-any.whl (313 kB)\n",
            "\u001b[2K   \u001b[90m━━━━━━━━━━━━━━━━━━━━━━━━━━━━━━━━━━━━━━━━\u001b[0m \u001b[32m313.6/313.6 kB\u001b[0m \u001b[31m15.6 MB/s\u001b[0m eta \u001b[36m0:00:00\u001b[0m\n",
            "\u001b[?25hInstalling collected packages: dnspython, pymongo\n",
            "Successfully installed dnspython-2.7.0 pymongo-4.13.0\n",
            "Requirement already satisfied: pandas in /usr/local/lib/python3.11/dist-packages (2.2.2)\n",
            "Requirement already satisfied: numpy>=1.23.2 in /usr/local/lib/python3.11/dist-packages (from pandas) (2.0.2)\n",
            "Requirement already satisfied: python-dateutil>=2.8.2 in /usr/local/lib/python3.11/dist-packages (from pandas) (2.9.0.post0)\n",
            "Requirement already satisfied: pytz>=2020.1 in /usr/local/lib/python3.11/dist-packages (from pandas) (2025.2)\n",
            "Requirement already satisfied: tzdata>=2022.7 in /usr/local/lib/python3.11/dist-packages (from pandas) (2025.2)\n",
            "Requirement already satisfied: six>=1.5 in /usr/local/lib/python3.11/dist-packages (from python-dateutil>=2.8.2->pandas) (1.17.0)\n"
          ]
        }
      ],
      "source": [
        "# Install needed python packages\n",
        "%pip install pymongo\n",
        "%pip install pandas"
      ]
    },
    {
      "cell_type": "code",
      "execution_count": 3,
      "metadata": {
        "id": "GtSopEVm27GL",
        "outputId": "d463f3c3-c9db-4977-9383-d27c6dc6aa1c",
        "colab": {
          "base_uri": "https://localhost:8080/"
        }
      },
      "outputs": [
        {
          "output_type": "stream",
          "name": "stdout",
          "text": [
            "  % Total    % Received % Xferd  Average Speed   Time    Time     Time  Current\n",
            "                                 Dload  Upload   Total   Spent    Left  Speed\n",
            "100 99.9M  100 99.9M    0     0  60.3M      0  0:00:01  0:00:01 --:--:-- 60.2M\n"
          ]
        }
      ],
      "source": [
        "# Download us-counties.csv\n",
        "!curl -L \"https://raw.githubusercontent.com/nytimes/covid-19-data/master/us-counties.csv\" > us-counties.csv"
      ]
    },
    {
      "cell_type": "code",
      "execution_count": 4,
      "metadata": {
        "id": "VG6PEuzJ27GL",
        "outputId": "fdd79344-6496-43c5-d6b9-6c296c30947e",
        "colab": {
          "base_uri": "https://localhost:8080/"
        }
      },
      "outputs": [
        {
          "output_type": "stream",
          "name": "stdout",
          "text": [
            "Pinged your deployment. You successfully connected to MongoDB!\n"
          ]
        }
      ],
      "source": [
        "import pymongo\n",
        "\n",
        "from pymongo.mongo_client import MongoClient\n",
        "from pymongo.server_api import ServerApi\n",
        "\n",
        "uri = \"mongodb+srv://jonballard6:<password>@cluster0.katr03v.mongodb.net/?retryWrites=true&w=majority&appName=Cluster0\"\n",
        "\n",
        "# Create a new client and connect to the server\n",
        "client = MongoClient(uri, server_api=ServerApi('1'))\n",
        "\n",
        "# Send a ping to confirm a successful connection\n",
        "try:\n",
        "    client.admin.command('ping')\n",
        "    print(\"Pinged your deployment. You successfully connected to MongoDB!\")\n",
        "except Exception as e:\n",
        "    print(e)\n"
      ]
    },
    {
      "cell_type": "code",
      "execution_count": 5,
      "metadata": {
        "id": "ydLja9Qx27GL"
      },
      "outputs": [],
      "source": [
        "# Create or get your DB\n",
        "db_name = \"CS452_Mongo_Covid\"\n",
        "db = client.get_database(db_name)"
      ]
    },
    {
      "cell_type": "markdown",
      "metadata": {
        "id": "-0ySxj6e27GL"
      },
      "source": [
        "Spark SQL Rewrite in MongoDB 1-6\n",
        "\n",
        "*Redo the SparkSQL assignment in MongoDB using the aggregation pipeline.*"
      ]
    },
    {
      "cell_type": "code",
      "execution_count": 19,
      "metadata": {
        "id": "1zl0-JYC27GM",
        "outputId": "321ef798-99b0-45f5-95b6-3e1d1fc73ff4",
        "colab": {
          "base_uri": "https://localhost:8080/"
        }
      },
      "outputs": [
        {
          "output_type": "stream",
          "name": "stdout",
          "text": [
            "done\n"
          ]
        }
      ],
      "source": [
        "# 1. Write code to define the schema and then read in the dataset\n",
        "#    (took me 17 minutes!!!)\n",
        "\n",
        "import pandas\n",
        "\n",
        "# Load the CSV file\n",
        "df = pandas.read_csv('./us-counties.csv')\n",
        "data = df.to_dict('records')\n",
        "db.casesdeaths.drop()\n",
        "db.casesdeaths.insert_many(data)\n",
        "print(\"done\")\n"
      ]
    },
    {
      "cell_type": "code",
      "execution_count": 6,
      "metadata": {
        "id": "t92a6hJu27GM",
        "outputId": "5d6cc13e-7a11-40ed-87e8-728ad276913d",
        "colab": {
          "base_uri": "https://localhost:8080/"
        }
      },
      "outputs": [
        {
          "output_type": "execute_result",
          "data": {
            "text/plain": [
              "[{'county': 'New York City', 'state': 'New York', 'deaths': 40267.0}]"
            ]
          },
          "metadata": {},
          "execution_count": 6
        }
      ],
      "source": [
        "# 2. Write code to find the county with the most deaths\n",
        "res = db.casesdeaths.find({},{\"_id\":0, \"state\":1, \"county\":1, \"deaths\":1}).sort({\"deaths\":-1}).limit(1)\n",
        "list(res)"
      ]
    },
    {
      "cell_type": "code",
      "execution_count": 7,
      "metadata": {
        "id": "p7cbpDme27GM",
        "colab": {
          "base_uri": "https://localhost:8080/"
        },
        "outputId": "26b919d8-b322-4af4-b1db-6873aa4eb2c0"
      },
      "outputs": [
        {
          "output_type": "stream",
          "name": "stdout",
          "text": [
            "{'county': 'Los Angeles', 'state': 'California', 'cases': 2908425}\n"
          ]
        }
      ],
      "source": [
        "# 3. Write code to find the county with the most cases\n",
        "res = db.casesdeaths.find_one({},{\"_id\":0,\"state\":1,\"county\":1,\"cases\":1},sort=[(\"cases\", -1)])\n",
        "print(res)"
      ]
    },
    {
      "cell_type": "code",
      "execution_count": 8,
      "metadata": {
        "id": "K1DuyYhd27GM",
        "colab": {
          "base_uri": "https://localhost:8080/"
        },
        "outputId": "94ec7877-cc20-4628-b201-2461cc467c31"
      },
      "outputs": [
        {
          "output_type": "execute_result",
          "data": {
            "text/plain": [
              "[{'county': 'Utah', 'state': 'Utah', 'cases': 203286}]"
            ]
          },
          "metadata": {},
          "execution_count": 8
        }
      ],
      "source": [
        "# 4. Write code to find the total number of deaths in Utah county\n",
        "res = db.casesdeaths.find({\"county\": \"Utah\"},{\"_id\":0, \"state\":1, \"county\":1, \"cases\":1}).sort(\"date\", -1).limit(1)\n",
        "list(res)"
      ]
    },
    {
      "cell_type": "code",
      "execution_count": null,
      "metadata": {
        "id": "0-g4z74Q27GM"
      },
      "outputs": [],
      "source": [
        "# 5. Write code to find the death rate for each state and sort the states by death rate descending\n",
        "#  with latestDateByFips as (\n",
        "#       select fips, max(date) as date\n",
        "#       from covid\n",
        "#       group by fips\n",
        "#     ), latestRowForEachFips as (\n",
        "#       select county, state, cases, deaths, c.fips\n",
        "#       from covid c\n",
        "#       join latestDateByFips l on c.date = l.date\n",
        "#     )\n",
        "\n",
        "#     select state, (sum(deaths) sum(cases))\n",
        "#     from latestRowForEachFips\n",
        "#     group by state\n",
        "\n",
        "pipeline = [\n",
        "    {\n",
        "\n",
        "    },\n",
        "]\n",
        "res = db.casesdeaths.aggregate(pipeline)\n",
        "list(res)"
      ]
    },
    {
      "cell_type": "code",
      "execution_count": null,
      "metadata": {
        "id": "c9eFXkhZ27GM"
      },
      "outputs": [],
      "source": [
        "# 6. Write code to something else interesting with this data – your choice"
      ]
    },
    {
      "cell_type": "markdown",
      "metadata": {
        "id": "mMVqLsdx27GM"
      },
      "source": [
        "In this next part we will get experience using MongoDB's aggegregation pipeline's $lookup stage to join collections in MongoDb. Specifically we'll join to our **cases/deaths data** with **[vaccination data](https://ourworldindata.org/us-states-vaccinations#what-share-of-the-population-has-completed-the-initial-vaccination-protocol)** and **[total population data](https://www2.census.gov/programs-surveys/popest/datasets/2010-2019/counties/totals/co-est2019-alldata.csv)**.  First we need to download and ingest the data.\n",
        "\n"
      ]
    },
    {
      "cell_type": "code",
      "execution_count": 4,
      "metadata": {
        "id": "6JceEIly27GM",
        "outputId": "099feee4-bf8f-44f5-d726-41147737488b",
        "colab": {
          "base_uri": "https://localhost:8080/"
        }
      },
      "outputs": [
        {
          "output_type": "stream",
          "name": "stdout",
          "text": [
            "  % Total    % Received % Xferd  Average Speed   Time    Time     Time  Current\n",
            "                                 Dload  Upload   Total   Spent    Left  Speed\n",
            "100 4804k  100 4804k    0     0  10.7M      0 --:--:-- --:--:-- --:--:-- 10.7M\n"
          ]
        }
      ],
      "source": [
        "# Get the CSV for covid vaccination data\n",
        "!curl -L \"https://raw.githubusercontent.com/owid/covid-19-data/master/public/data/vaccinations/us_state_vaccinations.csv\" > \"./us_state_vaccinations.csv\""
      ]
    },
    {
      "cell_type": "code",
      "execution_count": null,
      "metadata": {
        "id": "ntsf916g27GM"
      },
      "outputs": [],
      "source": [
        "# Put the vaccinations data into the the DB  (took me 37 seconds)\n",
        "with open(\"./us_state_vaccinations.csv\") as f:\n",
        "  dataRows = csv.DictReader(f)\n",
        "  db.vaccinations.insert_many(dataRows)\n",
        "\n",
        "df = pandas.read_csv('./us_state_vaccinations.csv')\n",
        "data = df.to_dict('records')\n",
        "db.vaccinations.drop()\n",
        "db.vaccinations.insert_many(data)\n",
        "print(\"Done!\")\n"
      ]
    },
    {
      "cell_type": "code",
      "execution_count": 5,
      "metadata": {
        "id": "r4Jfqf_827GN",
        "outputId": "546ef0a6-68f2-44ac-dd8e-4cd5f9bff67c",
        "colab": {
          "base_uri": "https://localhost:8080/"
        }
      },
      "outputs": [
        {
          "output_type": "stream",
          "name": "stdout",
          "text": [
            "  % Total    % Received % Xferd  Average Speed   Time    Time     Time  Current\n",
            "                                 Dload  Upload   Total   Spent    Left  Speed\n",
            "100 3559k  100 3559k    0     0  8303k      0 --:--:-- --:--:-- --:--:-- 8316k\n"
          ]
        }
      ],
      "source": [
        "# Get the total population (Use POPESTIMATE2019)\n",
        "!curl -L \"https://www2.census.gov/programs-surveys/popest/datasets/2010-2019/counties/totals/co-est2019-alldata.csv\" > \"./co-est2019-alldata.csv\""
      ]
    },
    {
      "cell_type": "code",
      "execution_count": null,
      "metadata": {
        "id": "-sgf65X427GN"
      },
      "outputs": [],
      "source": [
        "# Put population data into the DB (took me 10 seconds)\n",
        "# with open(\"./co-est2019-alldata.csv\", encoding='latin-1') as f:\n",
        "#   dataRows = csv.DictReader(f)\n",
        "#   db.population.insert_many(dataRows)\n",
        "\n",
        "df = pandas.read_csv('./co-est2019-alldata.csv', encoding='latin-1')\n",
        "data = df.to_dict('records')\n",
        "db.populations.drop()\n",
        "db.populations.insert_many(data)\n",
        "print(\"Done!\")"
      ]
    },
    {
      "cell_type": "markdown",
      "metadata": {
        "id": "T5xRDuY827GN"
      },
      "source": [
        "Using the aggregation pipeline and the \\$out stage create a new dataset that just maps the state to total counts. Do this for all three data sets so you have:\n",
        "\n",
        "casesdeaths_state = (state, cases, deaths)\n",
        "\n",
        "populations_state = (state, population)\n",
        "\n",
        "vaccinations_state = (state, vaccinations)"
      ]
    },
    {
      "cell_type": "code",
      "execution_count": null,
      "metadata": {
        "id": "n9iTKTUy27GN"
      },
      "outputs": [],
      "source": [
        "# Create the casesdeaths_state collection (remember the counties have a running sum by date, taking the max of each county, then summing by state is correct math)"
      ]
    },
    {
      "cell_type": "code",
      "execution_count": null,
      "metadata": {
        "id": "5W1U_Rl-27GN"
      },
      "outputs": [],
      "source": [
        "# Create the populations_state collection (this dataset is interesting in that there is a \"county 0\" in each state that represents the state population total)"
      ]
    },
    {
      "cell_type": "code",
      "execution_count": null,
      "metadata": {
        "id": "Bjb3Z6wX27GN"
      },
      "outputs": [],
      "source": [
        "# Create the vaccinations_state collection (this dataset is by state and date. You don't want the sum of all the dates, as the data is a running sum)"
      ]
    },
    {
      "cell_type": "markdown",
      "metadata": {
        "id": "o1jGKNzE27GN"
      },
      "source": [
        "Use the \\$lookup stage of the aggregation pipeline to join your three data sets by state. Note this won't be a perfect join - to find out why look at the states or even the count of states in each set."
      ]
    },
    {
      "cell_type": "code",
      "execution_count": null,
      "metadata": {
        "id": "7gYFfQ7f27GN"
      },
      "outputs": [],
      "source": [
        "# Report the state, infection rate (cases/population), death rate (deaths/population), vaccination rate (vaccinated_people/population)."
      ]
    },
    {
      "cell_type": "code",
      "execution_count": null,
      "metadata": {
        "id": "GO8oFDwW27GN"
      },
      "outputs": [],
      "source": [
        "# Is there a correlation between infection or death rates with the vaccination rate for each state?"
      ]
    },
    {
      "cell_type": "code",
      "execution_count": null,
      "metadata": {
        "id": "SMYf7z3827GN"
      },
      "outputs": [],
      "source": [
        "# Ask an interesting question that might be answered with this dataset and answer it."
      ]
    }
  ],
  "metadata": {
    "language_info": {
      "name": "python"
    },
    "colab": {
      "provenance": [],
      "include_colab_link": true
    },
    "kernelspec": {
      "name": "python3",
      "display_name": "Python 3"
    }
  },
  "nbformat": 4,
  "nbformat_minor": 0
}